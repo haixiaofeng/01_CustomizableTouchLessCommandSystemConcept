{
 "cells": [
  {
   "cell_type": "markdown",
   "metadata": {
    "id": "2N2v2lRis7it"
   },
   "source": [
    "#"
   ]
  },
  {
   "cell_type": "markdown",
   "metadata": {
    "id": "Tmw8ZOOes7ix"
   },
   "source": [
    "## bindOI: Operating Interface Concept For the Visually Impaired\n",
    "_(Computer Vision, Action Recognition, Image Recognition)_"
   ]
  },
  {
   "cell_type": "markdown",
   "metadata": {
    "id": "rEs8ovths7iy"
   },
   "source": [
    "#####"
   ]
  },
  {
   "cell_type": "markdown",
   "metadata": {
    "id": "g3BtwPAVs7iz"
   },
   "source": [
    "##### Haixiao (Harry) Feng"
   ]
  },
  {
   "cell_type": "markdown",
   "metadata": {
    "id": "hXAjBdnys7iz"
   },
   "source": [
    "#"
   ]
  },
  {
   "cell_type": "markdown",
   "metadata": {
    "id": "3aQnVdqAs7i0"
   },
   "source": [
    "References:\n",
    "- [openCV]()\n",
    "- [MediaPipe](https://google.github.io/mediapipe/solutions/solutions.html)\n",
    "- [Neural Networks For Action Recognition]()\n",
    "- [Marching Sqaures ?]()"
   ]
  },
  {
   "cell_type": "markdown",
   "metadata": {
    "id": "KYjMiEWns7i0"
   },
   "source": [
    "#"
   ]
  },
  {
   "cell_type": "markdown",
   "metadata": {
    "id": "DJs8ObA5s7i0",
    "tags": []
   },
   "source": [
    "#### Util"
   ]
  },
  {
   "cell_type": "markdown",
   "metadata": {
    "id": "DMa7Kw2ys7i1",
    "jp-MarkdownHeadingCollapsed": true,
    "tags": []
   },
   "source": [
    "##### Installations & Dependencies"
   ]
  },
  {
   "cell_type": "code",
   "execution_count": 5,
   "metadata": {
    "id": "8TytuINds7i1"
   },
   "outputs": [],
   "source": [
    "# !pip install opencv-python\n",
    "# !pip install matplotlib\n",
    "# !pip install mediapipe\n",
    "# !pip install tensorflow\n",
    "# !pip install scipy\n",
    "# !pip install sklearn"
   ]
  },
  {
   "cell_type": "code",
   "execution_count": 2,
   "metadata": {
    "id": "xOJiISzxs7i3"
   },
   "outputs": [],
   "source": [
    "import os\n",
    "import time\n",
    "import numpy as np\n",
    "from matplotlib import pyplot as plt\n",
    "\n",
    "import cv2\n",
    "import mediapipe as mp\n",
    "\n",
    "from sklearn.model_selection import train_test_split\n",
    "from tensorflow.keras.utils import to_categorical\n",
    "\n",
    "import tensorflow as tf\n",
    "from tensorflow.keras.models import Sequential\n",
    "from tensorflow.keras.layers import LSTM, Dense\n",
    "from tensorflow.keras.callbacks import TensorBoard\n",
    "\n",
    "from sklearn.metrics import multilabel_confusion_matrix, accuracy_score"
   ]
  },
  {
   "cell_type": "markdown",
   "metadata": {
    "id": "mMskwhPPs7i3"
   },
   "source": [
    "#####"
   ]
  },
  {
   "cell_type": "markdown",
   "metadata": {
    "id": "M06G6eAHs7i4",
    "tags": []
   },
   "source": [
    "##### Global Variables"
   ]
  },
  {
   "cell_type": "code",
   "execution_count": 13,
   "metadata": {
    "id": "em5KKcvBs7i4"
   },
   "outputs": [],
   "source": [
    "mp_holistic = mp.solutions.holistic        # MediaPipe holistic actionRecModel\n",
    "mp_drawing = mp.solutions.drawing_utils    # MediaPipe drawing utilities"
   ]
  },
  {
   "cell_type": "code",
   "execution_count": 14,
   "metadata": {
    "id": "_UqUZzTNs7i4"
   },
   "outputs": [],
   "source": [
    "commands = np.array(['Select', 'Confirm', 'Home'])    # These are the three commands that we are training for for the current version of the project"
   ]
  },
  {
   "cell_type": "code",
   "execution_count": 15,
   "metadata": {
    "id": "jj9jv46Ls7i5"
   },
   "outputs": [],
   "source": [
    "black = (0, 0, 0)\n",
    "white = (255, 255, 255)\n",
    "blue = (255, 0, 120)"
   ]
  },
  {
   "cell_type": "code",
   "execution_count": 16,
   "metadata": {
    "id": "nzvNPVOws7i5"
   },
   "outputs": [],
   "source": [
    "num_seq = 30      # 30 sequences (video captures) for each category of traning data\n",
    "seq_len = 30    # 30 frames for each sequence\n",
    "folder_start = 1"
   ]
  },
  {
   "cell_type": "markdown",
   "metadata": {
    "id": "DU1e4n9_s7i5"
   },
   "source": [
    "#####"
   ]
  },
  {
   "cell_type": "markdown",
   "metadata": {
    "id": "3WRThB5Ys7i5",
    "tags": []
   },
   "source": [
    "##### Helper Functions"
   ]
  },
  {
   "cell_type": "code",
   "execution_count": 17,
   "metadata": {
    "id": "a-3Zflyis7i5"
   },
   "outputs": [],
   "source": [
    "def f_mp_detect(image, actionRecModel):\n",
    "    \n",
    "    '''\n",
    "    Performs command recognition\n",
    "    '''\n",
    "    \n",
    "    image = cv2.cvtColor(image, cv2.COLOR_BGR2RGB)    # Color conversion BGR -> RGB (per CV2 requirement)\n",
    "    image.flags.writeable = False                     # Set image to un-writable (performance util)\n",
    "    results = actionRecModel.process(image)           # Predict using specifically-trained actionRecModel\n",
    "    image.flags.writeable = True                      # Set image back to writable \n",
    "    image = cv2.cvtColor(image, cv2.COLOR_RGB2BGR)    # Color conversion back or original\n",
    "    \n",
    "    return image, results"
   ]
  },
  {
   "cell_type": "code",
   "execution_count": 18,
   "metadata": {
    "id": "2sFbrvEFs7i6"
   },
   "outputs": [],
   "source": [
    "def f_extract_keypoints(results):\n",
    "    \n",
    "    '''\n",
    "    Extracts keypoints for all components (pose, face, left hand, right hand) as a concatenated array.\n",
    "    If none detected, return array of all 0s of the same dimensions\n",
    "    '''\n",
    "    \n",
    "    face = np.array([[res.x, res.y, res.z] for res in results.face_landmarks.landmark]).flatten() if results.face_landmarks else np.zeros(468*3)\n",
    "    leftHand = np.array([[res.x, res.y, res.z] for res in results.left_hand_landmarks.landmark]).flatten() if results.left_hand_landmarks else np.zeros(21*3)\n",
    "    rightHand = np.array([[res.x, res.y, res.z] for res in results.right_hand_landmarks.landmark]).flatten() if results.right_hand_landmarks else np.zeros(21*3)\n",
    "    pose = np.array([[res.x, res.y, res.z, res.visibility] for res in results.pose_landmarks.landmark]).flatten() if results.pose_landmarks else np.zeros(33*4) \n",
    "    keypointsConcat = np.concatenate([pose, face, leftHand, rightHand])\n",
    "    \n",
    "    return keypointsConcat"
   ]
  },
  {
   "cell_type": "code",
   "execution_count": 19,
   "metadata": {
    "id": "HJfhGnKUs7i6"
   },
   "outputs": [],
   "source": [
    "def f_draw_landmarks(image, results):\n",
    "    \n",
    "    '''\n",
    "    Displays landmarks and connections\n",
    "    '''\n",
    "    \n",
    "    # Draw face connections\n",
    "    mp_drawing.draw_landmarks(image,\n",
    "                             results.face_landmarks,\n",
    "                             mp_holistic.FACEMESH_TESSELATION,                                    # landmark function\n",
    "                             mp_drawing.DrawingSpec(color=blue, thickness=1, circle_radius=1),    # Landmark drawing spec\n",
    "                             mp_drawing.DrawingSpec(color=blue, thickness=1, circle_radius=1)     # Connection drawing spec\n",
    "                             )\n",
    "    \n",
    "    # Draw left hand connections\n",
    "    mp_drawing.draw_landmarks(image, results.left_hand_landmarks,\n",
    "                             mp_holistic.HAND_CONNECTIONS,\n",
    "                             mp_drawing.DrawingSpec(color=white, thickness=2, circle_radius=1),\n",
    "                             mp_drawing.DrawingSpec(color=blue, thickness=2, circle_radius=2)\n",
    "                             )\n",
    "    \n",
    "    # Draw right hand connections  \n",
    "    mp_drawing.draw_landmarks(image, results.right_hand_landmarks,\n",
    "                             mp_holistic.HAND_CONNECTIONS, \n",
    "                             mp_drawing.DrawingSpec(color=white, thickness=2, circle_radius=1),\n",
    "                             mp_drawing.DrawingSpec(color=blue, thickness=2, circle_radius=2)\n",
    "                             )\n",
    "\n",
    "    # Draw pose connections\n",
    "    mp_drawing.draw_landmarks(image, results.pose_landmarks,\n",
    "                             mp_holistic.POSE_CONNECTIONS,\n",
    "                             mp_drawing.DrawingSpec(color=white, thickness=2, circle_radius=1),\n",
    "                             mp_drawing.DrawingSpec(color=blue, thickness=3, circle_radius=3)\n",
    "                             )"
   ]
  },
  {
   "cell_type": "code",
   "execution_count": 20,
   "metadata": {
    "id": "9Pof62Yhs7i7"
   },
   "outputs": [],
   "source": [
    "def f_viz_prob_region(res, commands, inputFrame):\n",
    "    \n",
    "    '''\n",
    "    Visualizes the probability region of command with a sliding rectangle\n",
    "    '''\n",
    "    \n",
    "    outputFrame = inputFrame.copy()\n",
    "    for num, prob in enumerate(res):\n",
    "        \n",
    "        # Draw sliding rectangle 60\n",
    "        cv2.rectangle(img=outputFrame,\n",
    "                      pt1=(0, 20+num*40),\n",
    "                      pt2=(int(prob*100), 50+num*40),\n",
    "                      color=blue,\n",
    "                      thickness=-1\n",
    "                     )\n",
    "        \n",
    "        # Display command texts 85\n",
    "        cv2.putText(img=outputFrame,\n",
    "                    text=commands[num],\n",
    "                    org=(0, 45+num*40),\n",
    "                    fontFace=cv2.FONT_HERSHEY_SIMPLEX,\n",
    "                    fontScale=1,\n",
    "                    color=black,\n",
    "                    thickness=2,\n",
    "                    lineType=cv2.LINE_AA\n",
    "                   )\n",
    "        \n",
    "    return outputFrame"
   ]
  },
  {
   "cell_type": "markdown",
   "metadata": {
    "id": "cdR7dM_Ms7i8",
    "tags": []
   },
   "source": [
    "#"
   ]
  },
  {
   "cell_type": "markdown",
   "metadata": {
    "id": "BQo2Q68Ms7i9",
    "tags": []
   },
   "source": [
    "#### MediaPipe Landmark Detection Demo"
   ]
  },
  {
   "cell_type": "code",
   "execution_count": 32,
   "metadata": {
    "id": "V721nUIms7i9"
   },
   "outputs": [],
   "source": [
    "# Access webcam for demo\n",
    "\n",
    "cap = cv2.VideoCapture(0)                             # Default webcam\n",
    "\n",
    "with mp_holistic.Holistic(min_detection_confidence=0.5, min_tracking_confidence=0.5) as holistic:    # Instantiate mediapipe holistic actionRecModel\n",
    "    while cap.isOpened():\n",
    "        \n",
    "        ret, frame = cap.read()                       # Read capture\n",
    "        image, results = f_mp_detect(frame, holistic)    # Detect landmarks\n",
    "        f_draw_landmarks(image, results)                 # Draw landmarks\n",
    "        cv2.imshow('OpenCV Feed', image)              # Display\n",
    "\n",
    "        if cv2.waitKey(10) & 0xFF == ord('q'):        # Break if needed\n",
    "            break\n",
    "            \n",
    "    cap.release()                                     # Release capture\n",
    "    cv2.destroyAllWindows()                           # Close windows"
   ]
  },
  {
   "cell_type": "markdown",
   "metadata": {
    "id": "FBNJSmnZs7i-",
    "tags": []
   },
   "source": [
    "#"
   ]
  },
  {
   "cell_type": "markdown",
   "metadata": {
    "id": "qUlwxRnDs7i-",
    "tags": []
   },
   "source": [
    "#### Data Collection\n",
    "Collects training data for each of the commands"
   ]
  },
  {
   "cell_type": "code",
   "execution_count": 33,
   "metadata": {
    "id": "4NkuH9NKs7i-"
   },
   "outputs": [],
   "source": [
    "# Make local directory and sub-directories\n",
    "\n",
    "data_path = os.path.join('data_train_folder')    # Local path to store data\n",
    "\n",
    "for command in commands:\n",
    "    command = command.lower()\n",
    "    for sequence in range(1, num_seq+1):\n",
    "        try:\n",
    "            os.makedirs(os.path.join(data_path, command, str(sequence)))    # Make directory if it doesn't already exit\n",
    "        except:\n",
    "            pass"
   ]
  },
  {
   "cell_type": "code",
   "execution_count": 35,
   "metadata": {
    "id": "7PEMDCScs7i-"
   },
   "outputs": [],
   "source": [
    "cap = cv2.VideoCapture(0)   # Default webcam\n",
    "\n",
    "# Instantiate mediapipe holistic actionRecModel\n",
    "with mp_holistic.Holistic(min_detection_confidence=0.5, min_tracking_confidence=0.5) as holistic:\n",
    "    \n",
    "    # Iterate thru the 3 commands\n",
    "    for command in commands:\n",
    "        # Iterate thru sequences (video captures)\n",
    "        for sequence in range(folder_start, folder_start+num_seq):\n",
    "            if cv2.waitKey(10) & 0xFF == ord('q'):   # Option to exit loop\n",
    "                break\n",
    "            # Loop thru sequence (video) length\n",
    "            for frameNum in range(seq_len):\n",
    "                ret, frame = cap.read()                         # Read capture\n",
    "                image, results = f_mp_detect(frame, holistic)   # Detect landmarks\n",
    "                f_draw_landmarks(image, results)                # Draw landmarks\n",
    "                \n",
    "                # Display info during capture\n",
    "                if frameNum==0:\n",
    "                    cv2.putText(img=image,\n",
    "                                text='Repositioning...',\n",
    "                                org=(10, 50),\n",
    "                                fontFace=cv2.FONT_HERSHEY_SIMPLEX,\n",
    "                                fontScale=1,\n",
    "                                color=blue,\n",
    "                                thickness=2,\n",
    "                                lineType=cv2.LINE_AA\n",
    "                               )\n",
    "                    cv2.putText(img=image,\n",
    "                                text='Collecting frames for command: [{}], sequence #{}'.format(command, sequence),\n",
    "                                org=(10, 20),\n",
    "                                fontFace=cv2.FONT_HERSHEY_PLAIN,\n",
    "                                fontScale=1,\n",
    "                                color=blue,\n",
    "                                thickness=1,\n",
    "                                lineType=cv2.LINE_AA\n",
    "                               )\n",
    "                    \n",
    "                    cv2.putText(img=image,\n",
    "                                text='----------------------------',\n",
    "                                org=(0, 300),\n",
    "                                fontFace=cv2.FONT_HERSHEY_PLAIN,\n",
    "                                fontScale=2,\n",
    "                                color=blue,\n",
    "                                thickness=2,\n",
    "                                lineType=cv2.LINE_AA\n",
    "                               )\n",
    "        \n",
    "                    cv2.imshow('OpenCV Feed', image)\n",
    "                    cv2.waitKey(1000)                  # *Add wait time between each capture\n",
    "                else:                    \n",
    "                    cv2.putText(img=image,\n",
    "                                text='Collecting frames for command: [{}], sequence #{}'.format(command, sequence),\n",
    "                                org=(10, 20),\n",
    "                                fontFace=cv2.FONT_HERSHEY_PLAIN,\n",
    "                                fontScale=1,\n",
    "                                color=blue,\n",
    "                                thickness=1,\n",
    "                                lineType=cv2.LINE_AA\n",
    "                               )\n",
    "                    \n",
    "                    cv2.putText(img=image,\n",
    "                                text='----------------------------',\n",
    "                                org=(0, 300),\n",
    "                                fontFace=cv2.FONT_HERSHEY_PLAIN,\n",
    "                                fontScale=2,\n",
    "                                color=blue,\n",
    "                                thickness=2,\n",
    "                                lineType=cv2.LINE_AA\n",
    "                               )\n",
    "                    \n",
    "                    cv2.imshow('OpenCV Feed', image)\n",
    "                \n",
    "                # Extract key points & save to path\n",
    "                keypoints = f_extract_keypoints(results)\n",
    "                savePath = os.path.join(data_path, command, str(sequence), str(frameNum+1))\n",
    "                np.save(savePath, keypoints)\n",
    "\n",
    "                if cv2.waitKey(10) & 0xFF == ord('q'):\n",
    "                    break\n",
    "                    \n",
    "    cap.release()\n",
    "    cv2.destroyAllWindows()"
   ]
  },
  {
   "cell_type": "markdown",
   "metadata": {
    "id": "OYkJw6oMs7i_"
   },
   "source": [
    "#"
   ]
  },
  {
   "cell_type": "markdown",
   "metadata": {
    "id": "6Y1uMTTms7i_",
    "tags": []
   },
   "source": [
    "#### Data Preprocessing\n",
    "- Load training data\n",
    "- Create labels & features"
   ]
  },
  {
   "cell_type": "code",
   "execution_count": null,
   "metadata": {
    "id": "2kDzXH8Vs7jA"
   },
   "outputs": [],
   "source": [
    "commandMap = {label:num for num, label in enumerate(commands)}"
   ]
  },
  {
   "cell_type": "code",
   "execution_count": null,
   "metadata": {
    "id": "lcJ3T74Hs7jA"
   },
   "outputs": [],
   "source": [
    "# commandMap"
   ]
  },
  {
   "cell_type": "code",
   "execution_count": null,
   "metadata": {
    "id": "HBffbf5rs7jA"
   },
   "outputs": [],
   "source": [
    "# Load training data\n",
    "sequences, labels = [], []\n",
    "for command in commands:\n",
    "    for sequence in np.array(os.listdir(os.path.join(data_path, command))).astype(int):\n",
    "        window = []\n",
    "        for frame in range(seq_len):    # 30\n",
    "            res = np.load(os.path.join(data_path, command, str(sequence), \"{}.npy\".format(frame+1)))\n",
    "            window.append(res)\n",
    "        sequences.append(window)\n",
    "        labels.append(commandMap[command])"
   ]
  },
  {
   "cell_type": "code",
   "execution_count": null,
   "metadata": {
    "id": "EscaMETts7jA"
   },
   "outputs": [],
   "source": [
    "# len(sequences)"
   ]
  },
  {
   "cell_type": "code",
   "execution_count": null,
   "metadata": {
    "id": "Zs631qHNs7jA"
   },
   "outputs": [],
   "source": [
    "# len(labels)"
   ]
  },
  {
   "cell_type": "code",
   "execution_count": null,
   "metadata": {
    "id": "fsdZFI4es7jA"
   },
   "outputs": [],
   "source": [
    "# Create X & y variables, and create test batch\n",
    "X = np.array(sequences)\n",
    "y = to_categorical(labels).astype(int)"
   ]
  },
  {
   "cell_type": "code",
   "execution_count": null,
   "metadata": {
    "id": "jNAonJcSs7jB"
   },
   "outputs": [],
   "source": [
    "Xtrain, Xtest, ytrain, ytest = train_test_split(X, y, test_size=0.1)"
   ]
  },
  {
   "cell_type": "code",
   "execution_count": null,
   "metadata": {
    "id": "JZuM7t-5s7jB"
   },
   "outputs": [],
   "source": [
    "# X[61][0].shape"
   ]
  },
  {
   "cell_type": "code",
   "execution_count": null,
   "metadata": {
    "id": "Xgk3MVN-s7jB"
   },
   "outputs": [],
   "source": [
    "# X"
   ]
  },
  {
   "cell_type": "code",
   "execution_count": null,
   "metadata": {
    "id": "r0dBCvRPs7jB",
    "tags": []
   },
   "outputs": [],
   "source": [
    "# y"
   ]
  },
  {
   "cell_type": "code",
   "execution_count": null,
   "metadata": {
    "id": "7AaTKsYCs7jB"
   },
   "outputs": [],
   "source": [
    "# X.shape    # Confirm dimension"
   ]
  },
  {
   "cell_type": "code",
   "execution_count": null,
   "metadata": {
    "id": "BvPDqqD0s7jB"
   },
   "outputs": [],
   "source": [
    "# ytrain.shape    # Confirm dimension"
   ]
  },
  {
   "cell_type": "code",
   "execution_count": null,
   "metadata": {
    "id": "ECplgFa_s7jC"
   },
   "outputs": [],
   "source": [
    "# ytest.shape    # Confirm dimension"
   ]
  },
  {
   "cell_type": "markdown",
   "metadata": {
    "id": "UtVubGtos7jC"
   },
   "source": [
    "#"
   ]
  },
  {
   "cell_type": "markdown",
   "metadata": {
    "id": "u443PemSs7jD",
    "tags": []
   },
   "source": [
    "#### Modeling & Training (LSTM)"
   ]
  },
  {
   "cell_type": "code",
   "execution_count": null,
   "metadata": {
    "id": "_dEwm0j4s7jD"
   },
   "outputs": [],
   "source": [
    "# del actionRecModel"
   ]
  },
  {
   "cell_type": "code",
   "execution_count": 27,
   "metadata": {
    "id": "Wvsa0Ff3s7jD"
   },
   "outputs": [],
   "source": [
    "# Define actionRecModel\n",
    "# *This is the best actionRecModel that I managed to come up with so far. Decent balance between performane and computational costs\n",
    "actionRecModel = Sequential()\n",
    "actionRecModel.add(LSTM(64, return_sequences=True, activation='relu', input_shape=(30, 1662)))\n",
    "actionRecModel.add(LSTM(128, return_sequences=True, activation='relu'))\n",
    "actionRecModel.add(LSTM(64, return_sequences=False, activation='relu'))\n",
    "actionRecModel.add(Dense(64, activation='relu'))\n",
    "actionRecModel.add(Dense(32, activation='relu'))\n",
    "actionRecModel.add(Dense(commands.shape[0], activation='softmax'))    # The Softmax activation function outputs a combined probability between\n",
    "                                                                      # 0 and 1 across all categories (the three commands, in this case)\n",
    "                                                                      # this is what we want because we will be selecting the prediction\n",
    "                                                                      # with the greatest probability as the action recognition result"
   ]
  },
  {
   "cell_type": "code",
   "execution_count": 28,
   "metadata": {
    "id": "O0C5RZ70s7jD"
   },
   "outputs": [],
   "source": [
    "# Define actionRecModel compiler & optimization function\n",
    "actionRecModel.compile(optimizer='Adam', loss='categorical_crossentropy', metrics=['categorical_accuracy'])"
   ]
  },
  {
   "cell_type": "code",
   "execution_count": 29,
   "metadata": {
    "id": "9zYJxtL3s7jE"
   },
   "outputs": [],
   "source": [
    "actionRecModel.load_weights('model_action_rec_curr.h5')"
   ]
  },
  {
   "cell_type": "code",
   "execution_count": null,
   "metadata": {
    "id": "pabv-IKQs7jE"
   },
   "outputs": [],
   "source": [
    "# class trainingHaltClass(tf.keras.callbacks.Callback):\n",
    "#     def on_epoch_end(self, epoch, logs={}):\n",
    "#         if(logs.get('loss') <= 0.05):\n",
    "#             print('\\n Training halted at J = 0.1. \\n')\n",
    "#             self.model.stop_training = True\n",
    "            \n",
    "# trainingHalt = trainingHaltClass()\n",
    "\n",
    "# actionRecModel.fit(Xtrain, ytrain, epochs=1000, callbacks=[trainingHalt])"
   ]
  },
  {
   "cell_type": "code",
   "execution_count": null,
   "metadata": {
    "id": "PYz-Czyos7jE",
    "tags": []
   },
   "outputs": [],
   "source": [
    "# %%capture\n",
    "\n",
    "# # Callback object for stop training after 50 successive epochs without improvement\n",
    "# callback = tf.keras.callbacks.EarlyStopping(monitor='loss',\n",
    "#                                             patience=50,\n",
    "#                                             verbose=1,\n",
    "#                                             restore_best_weights=True)\n",
    "\n",
    "# # Train the model\n",
    "# history = actionRecModel.fit(Xtrain, ytrain,\n",
    "#                              epochs=300,\n",
    "#                              callbacks=[callback])"
   ]
  },
  {
   "cell_type": "code",
   "execution_count": null,
   "metadata": {
    "id": "Om6yNOFxs7jF"
   },
   "outputs": [],
   "source": [
    "# actionRecModel.save('actionRecModel_05.h5')    # Save model"
   ]
  },
  {
   "cell_type": "code",
   "execution_count": null,
   "metadata": {
    "id": "dEoj7sOOs7jF"
   },
   "outputs": [],
   "source": [
    "# history_dict = history.history\n",
    "# print(history_dict.keys())"
   ]
  },
  {
   "cell_type": "code",
   "execution_count": null,
   "metadata": {
    "id": "Sg6VgH3Zs7jF"
   },
   "outputs": [],
   "source": [
    "# # Graphical summary of traing accuracy and loss\n",
    "# plt.plot(history.history['categorical_accuracy'])\n",
    "# plt.title('model accuracy')\n",
    "# plt.ylabel('accuracy')\n",
    "# plt.xlabel('epoch')\n",
    "# plt.legend(['train', 'test'], loc='upper left')\n",
    "# plt.show()\n",
    "# plt.plot(history.history['loss'])\n",
    "# # plt.plot(history.history['val_loss'])\n",
    "# plt.title('model loss')\n",
    "# plt.ylabel('loss')\n",
    "# plt.xlabel('epoch')\n",
    "# plt.legend(['train', 'test'], loc='upper left')\n",
    "# plt.show()"
   ]
  },
  {
   "cell_type": "code",
   "execution_count": null,
   "metadata": {
    "id": "LqbQ8Do0s7jF"
   },
   "outputs": [],
   "source": [
    "# actionRecModel.summary()"
   ]
  },
  {
   "cell_type": "markdown",
   "metadata": {
    "id": "XwlK_I2ls7jF"
   },
   "source": [
    "#"
   ]
  },
  {
   "cell_type": "markdown",
   "metadata": {
    "id": "fX6QzcyZs7jG",
    "tags": []
   },
   "source": [
    "#### Predictions & Evaluations"
   ]
  },
  {
   "cell_type": "code",
   "execution_count": 26,
   "metadata": {
    "id": "Bx2RSPdQs7jG",
    "outputId": "ce5d80b3-49c4-4246-98ba-743beee4dc93"
   },
   "outputs": [],
   "source": [
    "# res = actionRecModel.predict(Xtest)"
   ]
  },
  {
   "cell_type": "code",
   "execution_count": null,
   "metadata": {
    "id": "T0ujdqRWs7jH",
    "outputId": "cacc0133-6a9c-4fc6-fdfd-fba89e7a1bc1"
   },
   "outputs": [
    {
     "name": "stdout",
     "output_type": "stream",
     "text": [
      "1/1 [==============================] - 0s 108ms/step\n"
     ]
    }
   ],
   "source": [
    "yhat = actionRecModel.predict(Xtest)"
   ]
  },
  {
   "cell_type": "code",
   "execution_count": null,
   "metadata": {
    "id": "I4l19z57s7jH"
   },
   "outputs": [],
   "source": [
    "ytrue = np.argmax(ytest, axis=1).tolist()\n",
    "yhat = np.argmax(yhat, axis=1).tolist()"
   ]
  },
  {
   "cell_type": "code",
   "execution_count": null,
   "metadata": {
    "id": "BrSn8bsOs7jI",
    "outputId": "fd52b32d-82c0-4a0f-f619-8a0cb7ac933c"
   },
   "outputs": [
    {
     "data": {
      "text/plain": [
       "array([[[5, 0],\n",
       "        [0, 4]],\n",
       "\n",
       "       [[8, 0],\n",
       "        [0, 1]],\n",
       "\n",
       "       [[5, 0],\n",
       "        [0, 4]]], dtype=int64)"
      ]
     },
     "execution_count": 120,
     "metadata": {},
     "output_type": "execute_result"
    }
   ],
   "source": [
    "'''\n",
    "+---------------+----------------+\n",
    "| True Negative | False Positive |\n",
    "+---------------+----------------+\n",
    "| False Negative | True Positive |\n",
    "+---------------+----------------+\n",
    "'''\n",
    "multilabel_confusion_matrix(ytrue, yhat)"
   ]
  },
  {
   "cell_type": "code",
   "execution_count": 36,
   "metadata": {
    "id": "RcyrHtyYs7jI",
    "outputId": "a2cbe318-6392-40e2-9a89-45878b4a979b"
   },
   "outputs": [],
   "source": [
    "# accuracy_score(ytrue, yhat)"
   ]
  },
  {
   "cell_type": "markdown",
   "metadata": {
    "id": "UhayDTaHs7jI"
   },
   "source": [
    "##### * The model is decently accurate"
   ]
  },
  {
   "cell_type": "markdown",
   "metadata": {
    "id": "s3j01Ot4s7jI"
   },
   "source": [
    "#"
   ]
  },
  {
   "cell_type": "markdown",
   "metadata": {
    "id": "dx_-bvGqs7jI",
    "tags": []
   },
   "source": [
    "#### Real-Time Demo"
   ]
  },
  {
   "cell_type": "code",
   "execution_count": 31,
   "metadata": {
    "id": "ct348iQms7jJ"
   },
   "outputs": [],
   "source": [
    "%%capture\n",
    "\n",
    "# util var\n",
    "sequenceList = []\n",
    "predList = []\n",
    "commandList = []\n",
    "threshold = 0.75    # *Recognizes (determines) command when the current output probability is greater than this threshold\n",
    "\n",
    "cap = cv2.VideoCapture(0)    # Default webcam\n",
    "\n",
    "with mp_holistic.Holistic(min_detection_confidence=0.5, min_tracking_confidence=0.5) as holistic:    # Instantiate mediapipe holistic actionRecModel\n",
    "    while cap.isOpened():\n",
    "\n",
    "        ret, frame = cap.read()                           # Read capture\n",
    "        image, results = f_mp_detect(frame, holistic)        # Detect landmarks\n",
    "        f_draw_landmarks(image, results)                     # Draw landmarks\n",
    "        \n",
    "        # Extract and append the LAST 30 key points to sequence list for prediction\n",
    "        keypoints = f_extract_keypoints(results)\n",
    "        sequenceList.append(keypoints)\n",
    "        sequenceList = sequenceList[-30:]\n",
    "        \n",
    "        # Predict current command and Append result to predictions list\n",
    "        if len(sequenceList) == 30:\n",
    "            res = actionRecModel.predict(np.expand_dims(sequenceList, axis=0))[0]\n",
    "            predList.append(np.argmax(res))\n",
    "            \n",
    "            if np.unique(predList[-10:])[0]==np.argmax(res): \n",
    "                if res[np.argmax(res)] > threshold:                         # Check if the result with the greatest prb is above the threshold\n",
    "                    if len(commandList) > 0:                                # Check if there are already words in the commands list\n",
    "                        if commands[np.argmax(res)] != commandList[-1]:     # Update (append) current command IFF different from previous\n",
    "                            commandList.append(commands[np.argmax(res)])    # Append current command\n",
    "                    else:\n",
    "                        commandList.append(commands[np.argmax(res)])        # Append current (new) command\n",
    "\n",
    "            if len(commandList) > 5: \n",
    "                commandList = commandList[-5:]            # Restrict amount of output to render to display\n",
    "                \n",
    "            image = f_viz_prob_region(res, commands, image)   # Viz probabilities\n",
    "\n",
    "        \n",
    "        cv2.putText(img=image,\n",
    "                    text='----------------------------',\n",
    "                    org=(0, 300),\n",
    "                    fontFace=cv2.FONT_HERSHEY_PLAIN,\n",
    "                    fontScale=2,\n",
    "                    color=blue,\n",
    "                    thickness=2,\n",
    "                    lineType=cv2.LINE_AA\n",
    "                   )\n",
    "        \n",
    "        \n",
    "        cv2.imshow('OpenCV Feed', image)                  # Display\n",
    "\n",
    "        if cv2.waitKey(10) & 0xFF == ord('q'):            # Break if needed\n",
    "            break\n",
    "            \n",
    "    cap.release()\n",
    "    cv2.destroyAllWindows()"
   ]
  }
 ],
 "metadata": {
  "colab": {
   "collapsed_sections": [
    "BQo2Q68Ms7i9",
    "qUlwxRnDs7i-",
    "6Y1uMTTms7i_",
    "u443PemSs7jD",
    "fX6QzcyZs7jG",
    "dx_-bvGqs7jI"
   ],
   "name": "bindOI.ipynb",
   "provenance": []
  },
  "kernelspec": {
   "display_name": "Python 3 (ipykernel)",
   "language": "python",
   "name": "python3"
  },
  "language_info": {
   "codemirror_mode": {
    "name": "ipython",
    "version": 3
   },
   "file_extension": ".py",
   "mimetype": "text/x-python",
   "name": "python",
   "nbconvert_exporter": "python",
   "pygments_lexer": "ipython3",
   "version": "3.10.4"
  }
 },
 "nbformat": 4,
 "nbformat_minor": 4
}
